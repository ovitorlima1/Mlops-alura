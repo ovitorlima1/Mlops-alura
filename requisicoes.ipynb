{
 "cells": [
  {
   "cell_type": "code",
   "execution_count": 27,
   "id": "ba5ba33d-d49f-4810-85b1-4b536037cfac",
   "metadata": {},
   "outputs": [],
   "source": [
    "import requests"
   ]
  },
  {
   "cell_type": "code",
   "execution_count": 29,
   "id": "329bfb3f-a567-489f-a748-57c620dca439",
   "metadata": {},
   "outputs": [],
   "source": [
    "url = 'http://127.0.0.1:5000/cotacao/'"
   ]
  },
  {
   "cell_type": "code",
   "execution_count": 31,
   "id": "39f5eb36-bced-4b6c-92c8-81cd7e9f9f10",
   "metadata": {},
   "outputs": [],
   "source": [
    "dados = {\n",
    "    \"tamanho\": 120,\n",
    "    \"ano\": 2001,\n",
    "    \"garagem\": 2\n",
    "}"
   ]
  },
  {
   "cell_type": "code",
   "execution_count": 33,
   "id": "001dabfe-d27e-4d91-9cb2-6419b262ad64",
   "metadata": {},
   "outputs": [],
   "source": [
    "auth = requests.auth.HTTPBasicAuth('Vitor', 'mlops123' )"
   ]
  },
  {
   "cell_type": "code",
   "execution_count": 39,
   "id": "2368dc56-b057-4ebf-819d-68cbe79bfea3",
   "metadata": {},
   "outputs": [],
   "source": [
    "response = requests.post(url, json=dados, auth=auth)"
   ]
  },
  {
   "cell_type": "code",
   "execution_count": 41,
   "id": "9565d844-2d61-48ef-971c-966d17f4ac91",
   "metadata": {},
   "outputs": [
    {
     "data": {
      "text/plain": [
       "200"
      ]
     },
     "execution_count": 41,
     "metadata": {},
     "output_type": "execute_result"
    }
   ],
   "source": [
    "response.status_code"
   ]
  },
  {
   "cell_type": "code",
   "execution_count": 43,
   "id": "e0e31eeb-32a6-4a2d-94af-5870d7ff6836",
   "metadata": {},
   "outputs": [
    {
     "data": {
      "text/plain": [
       "'{\\n  \"preco_estimado\": 191436.5350383143\\n}\\n'"
      ]
     },
     "execution_count": 43,
     "metadata": {},
     "output_type": "execute_result"
    }
   ],
   "source": [
    "response.text"
   ]
  },
  {
   "cell_type": "code",
   "execution_count": null,
   "id": "4402bffb-0685-4538-87e0-bb4658f61e1b",
   "metadata": {},
   "outputs": [],
   "source": []
  }
 ],
 "metadata": {
  "kernelspec": {
   "display_name": "Python 3 (ipykernel)",
   "language": "python",
   "name": "python3"
  },
  "language_info": {
   "codemirror_mode": {
    "name": "ipython",
    "version": 3
   },
   "file_extension": ".py",
   "mimetype": "text/x-python",
   "name": "python",
   "nbconvert_exporter": "python",
   "pygments_lexer": "ipython3",
   "version": "3.12.4"
  }
 },
 "nbformat": 4,
 "nbformat_minor": 5
}
